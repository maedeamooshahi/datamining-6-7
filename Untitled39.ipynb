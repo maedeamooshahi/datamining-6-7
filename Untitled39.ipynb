{
  "nbformat": 4,
  "nbformat_minor": 0,
  "metadata": {
    "colab": {
      "name": "Untitled39.ipynb",
      "provenance": [],
      "authorship_tag": "ABX9TyOJdHq8gFj0LBdVFFJu4zIg",
      "include_colab_link": true
    },
    "kernelspec": {
      "name": "python3",
      "display_name": "Python 3"
    },
    "language_info": {
      "name": "python"
    }
  },
  "cells": [
    {
      "cell_type": "markdown",
      "metadata": {
        "id": "view-in-github",
        "colab_type": "text"
      },
      "source": [
        "<a href=\"https://colab.research.google.com/github/maedeamooshahi/datamining-6-7/blob/main/Untitled39.ipynb\" target=\"_parent\"><img src=\"https://colab.research.google.com/assets/colab-badge.svg\" alt=\"Open In Colab\"/></a>"
      ]
    },
    {
      "cell_type": "code",
      "execution_count": 1,
      "metadata": {
        "colab": {
          "base_uri": "https://localhost:8080/"
        },
        "id": "Kq_q6fo_3_BT",
        "outputId": "68a2db0b-be0b-4809-dd5f-8943b86b0c0f"
      },
      "outputs": [
        {
          "output_type": "stream",
          "name": "stdout",
          "text": [
            "Looking in indexes: https://pypi.org/simple, https://us-python.pkg.dev/colab-wheels/public/simple/\n",
            "Collecting pyspark\n",
            "  Downloading pyspark-3.3.0.tar.gz (281.3 MB)\n",
            "\u001b[K     |████████████████████████████████| 281.3 MB 44 kB/s \n",
            "\u001b[?25hCollecting py4j==0.10.9.5\n",
            "  Downloading py4j-0.10.9.5-py2.py3-none-any.whl (199 kB)\n",
            "\u001b[K     |████████████████████████████████| 199 kB 49.3 MB/s \n",
            "\u001b[?25hBuilding wheels for collected packages: pyspark\n",
            "  Building wheel for pyspark (setup.py) ... \u001b[?25l\u001b[?25hdone\n",
            "  Created wheel for pyspark: filename=pyspark-3.3.0-py2.py3-none-any.whl size=281764026 sha256=2b5c6b9ef01f749f458f6e2dfe5690cf06dc79a061470a0a82f8b627d93c767e\n",
            "  Stored in directory: /root/.cache/pip/wheels/7a/8e/1b/f73a52650d2e5f337708d9f6a1750d451a7349a867f928b885\n",
            "Successfully built pyspark\n",
            "Installing collected packages: py4j, pyspark\n",
            "Successfully installed py4j-0.10.9.5 pyspark-3.3.0\n"
          ]
        }
      ],
      "source": [
        "pip install pyspark"
      ]
    },
    {
      "cell_type": "code",
      "source": [
        "import pyspark\n",
        "from pyspark import SparkContext\n",
        "from pyspark.sql import *\n",
        "sc = SparkContext()\n",
        "spark = SparkSession.builder.appName('clustering').getOrCreate()"
      ],
      "metadata": {
        "id": "9dnlM-0n4YpK"
      },
      "execution_count": 2,
      "outputs": []
    },
    {
      "cell_type": "code",
      "source": [
        "data = spark.read.csv('/content/data.csv')\n",
        "data.show()"
      ],
      "metadata": {
        "colab": {
          "base_uri": "https://localhost:8080/"
        },
        "id": "w3MVyvMK4fQA",
        "outputId": "52fe39f1-b3ba-484c-ebe4-b457bf608bc8"
      },
      "execution_count": 4,
      "outputs": [
        {
          "output_type": "stream",
          "name": "stdout",
          "text": [
            "+----------------+-------+--------+------+\n",
            "|             _c0|    _c1|     _c2|   _c3|\n",
            "+----------------+-------+--------+------+\n",
            "|       Date/Time|    Lat|     Lon|  Base|\n",
            "|9/1/2014 0:01:00|40.2201|-74.0021|B02512|\n",
            "|9/1/2014 0:01:00|  40.75|-74.0027|B02512|\n",
            "|9/1/2014 0:03:00|40.7559|-73.9864|B02512|\n",
            "|9/1/2014 0:06:00| 40.745|-73.9889|B02512|\n",
            "|9/1/2014 0:11:00|40.8145|-73.9444|B02512|\n",
            "|9/1/2014 0:12:00|40.6735|-73.9918|B02512|\n",
            "|9/1/2014 0:15:00|40.7471|-73.6472|B02512|\n",
            "|9/1/2014 0:16:00|40.6613|-74.2691|B02512|\n",
            "|9/1/2014 0:32:00|40.3745|-73.9999|B02512|\n",
            "|9/1/2014 0:33:00|40.7633|-73.9773|B02512|\n",
            "|9/1/2014 0:33:00|40.7467|-73.6131|B02512|\n",
            "|9/1/2014 0:37:00|40.8105|  -73.96|B02512|\n",
            "|9/1/2014 0:38:00| 40.679|-74.0111|B02512|\n",
            "|9/1/2014 0:39:00|40.4023|-73.9839|B02512|\n",
            "|9/1/2014 0:48:00|40.7378|-74.0395|B02512|\n",
            "|9/1/2014 0:48:00|40.7214|-73.9884|B02512|\n",
            "|9/1/2014 0:49:00|40.8646|-73.9081|B02512|\n",
            "|9/1/2014 1:08:00|40.7398|-74.0061|B02512|\n",
            "|9/1/2014 1:17:00|40.6793|-74.0116|B02512|\n",
            "+----------------+-------+--------+------+\n",
            "only showing top 20 rows\n",
            "\n",
            "+----------------+-------+--------+------+\n",
            "|             _c0|    _c1|     _c2|   _c3|\n",
            "+----------------+-------+--------+------+\n",
            "|       Date/Time|    Lat|     Lon|  Base|\n",
            "|9/1/2014 0:01:00|40.2201|-74.0021|B02512|\n",
            "|9/1/2014 0:01:00|  40.75|-74.0027|B02512|\n",
            "|9/1/2014 0:03:00|40.7559|-73.9864|B02512|\n",
            "|9/1/2014 0:06:00| 40.745|-73.9889|B02512|\n",
            "|9/1/2014 0:11:00|40.8145|-73.9444|B02512|\n",
            "|9/1/2014 0:12:00|40.6735|-73.9918|B02512|\n",
            "|9/1/2014 0:15:00|40.7471|-73.6472|B02512|\n",
            "|9/1/2014 0:16:00|40.6613|-74.2691|B02512|\n",
            "|9/1/2014 0:32:00|40.3745|-73.9999|B02512|\n",
            "|9/1/2014 0:33:00|40.7633|-73.9773|B02512|\n",
            "|9/1/2014 0:33:00|40.7467|-73.6131|B02512|\n",
            "|9/1/2014 0:37:00|40.8105|  -73.96|B02512|\n",
            "|9/1/2014 0:38:00| 40.679|-74.0111|B02512|\n",
            "|9/1/2014 0:39:00|40.4023|-73.9839|B02512|\n",
            "|9/1/2014 0:48:00|40.7378|-74.0395|B02512|\n",
            "|9/1/2014 0:48:00|40.7214|-73.9884|B02512|\n",
            "|9/1/2014 0:49:00|40.8646|-73.9081|B02512|\n",
            "|9/1/2014 1:08:00|40.7398|-74.0061|B02512|\n",
            "|9/1/2014 1:17:00|40.6793|-74.0116|B02512|\n",
            "+----------------+-------+--------+------+\n",
            "only showing top 20 rows\n",
            "\n"
          ]
        }
      ]
    },
    {
      "cell_type": "code",
      "source": [
        "from pyspark.sql.functions import rand\n",
        "Df=data.orderBy(rand())\n",
        "Df.show()"
      ],
      "metadata": {
        "colab": {
          "base_uri": "https://localhost:8080/"
        },
        "id": "3aCQ5a9I5XLw",
        "outputId": "bbb01d4e-4d0c-48ec-b2cd-b51258d6be09"
      },
      "execution_count": 5,
      "outputs": [
        {
          "output_type": "stream",
          "name": "stdout",
          "text": [
            "+------------------+-------+--------+------+\n",
            "|               _c0|    _c1|     _c2|   _c3|\n",
            "+------------------+-------+--------+------+\n",
            "| 9/3/2014 15:17:00|40.7841|-73.9548|B02598|\n",
            "| 9/2/2014 17:22:00|  40.72|-73.9933|B02598|\n",
            "|9/13/2014 17:26:00|40.7463|-73.9968|B02512|\n",
            "|  9/5/2014 6:54:00|40.8453|-73.8262|B02512|\n",
            "| 9/2/2014 12:31:00| 40.766|-73.9635|B02512|\n",
            "|9/23/2014 20:45:00|40.7376|-73.9895|B02512|\n",
            "| 9/5/2014 18:23:00|40.7415|-73.9795|B02512|\n",
            "| 9/1/2014 21:18:00|40.7397|-73.9983|B02598|\n",
            "| 9/1/2014 16:48:00|40.6341|-73.9054|B02598|\n",
            "|9/16/2014 17:53:00|40.7589|-73.9769|B02512|\n",
            "| 9/2/2014 20:22:00|40.7401|-74.0074|B02512|\n",
            "| 9/9/2014 17:11:00|40.7612|-74.0005|B02512|\n",
            "| 9/9/2014 15:27:00|40.7529|-73.9872|B02512|\n",
            "| 9/3/2014 11:48:00|40.7747|-73.9626|B02598|\n",
            "| 9/4/2014 16:31:00|40.7397|-74.1749|B02512|\n",
            "|9/13/2014 10:32:00|40.7143|-73.9877|B02512|\n",
            "|9/24/2014 20:18:00|40.7429|-73.9369|B02512|\n",
            "|9/21/2014 12:25:00|40.7508| -74.025|B02512|\n",
            "|9/29/2014 15:02:00|40.7572|  -73.99|B02512|\n",
            "| 9/2/2014 14:52:00|40.7533|-73.8908|B02598|\n",
            "+------------------+-------+--------+------+\n",
            "only showing top 20 rows\n",
            "\n"
          ]
        }
      ]
    },
    {
      "cell_type": "code",
      "source": [
        "DF=Df.sample(0.2)\n",
        "DF.show()"
      ],
      "metadata": {
        "colab": {
          "base_uri": "https://localhost:8080/"
        },
        "id": "hgASbMf65c8V",
        "outputId": "97bc52e9-53a7-4041-b7ac-99e3446dd28e"
      },
      "execution_count": 6,
      "outputs": [
        {
          "output_type": "stream",
          "name": "stdout",
          "text": [
            "+------------------+-------+--------+------+\n",
            "|               _c0|    _c1|     _c2|   _c3|\n",
            "+------------------+-------+--------+------+\n",
            "|9/23/2014 20:45:00|40.7376|-73.9895|B02512|\n",
            "| 9/5/2014 18:23:00|40.7415|-73.9795|B02512|\n",
            "| 9/1/2014 21:18:00|40.7397|-73.9983|B02598|\n",
            "| 9/1/2014 16:48:00|40.6341|-73.9054|B02598|\n",
            "|9/16/2014 17:53:00|40.7589|-73.9769|B02512|\n",
            "| 9/3/2014 11:48:00|40.7747|-73.9626|B02598|\n",
            "| 9/2/2014 14:52:00|40.7533|-73.8908|B02598|\n",
            "| 9/26/2014 8:35:00|40.7419|-74.0046|B02512|\n",
            "|  9/3/2014 5:45:00| 40.896|-73.9011|B02512|\n",
            "|  9/4/2014 8:21:00|40.7065|-73.9379|B02512|\n",
            "| 9/26/2014 6:02:00|40.6911|-73.9842|B02512|\n",
            "| 9/1/2014 11:41:00| 40.688|-74.1829|B02598|\n",
            "|9/20/2014 20:04:00|40.7097|-74.0147|B02512|\n",
            "|9/25/2014 18:47:00|40.7622|-73.9746|B02512|\n",
            "|  9/3/2014 8:32:00|40.7441|-73.9921|B02512|\n",
            "|9/19/2014 14:40:00|40.7609|-73.9772|B02512|\n",
            "|  9/3/2014 9:47:00|40.6868|-73.9644|B02598|\n",
            "|9/24/2014 13:34:00|40.7224|-74.0077|B02512|\n",
            "| 9/2/2014 13:26:00|40.6948|-74.1778|B02512|\n",
            "| 9/10/2014 9:24:00| 40.752|-73.9747|B02512|\n",
            "+------------------+-------+--------+------+\n",
            "only showing top 20 rows\n",
            "\n"
          ]
        }
      ]
    },
    {
      "cell_type": "code",
      "source": [
        "from pyspark.ml.clustering import KMeans\n",
        "from pyspark.ml.evaluation import ClusteringEvaluator\n",
        "from pyspark.ml.feature import *"
      ],
      "metadata": {
        "id": "6ycK0DKa5jI2"
      },
      "execution_count": 7,
      "outputs": []
    },
    {
      "cell_type": "code",
      "source": [
        "hasher = FeatureHasher(inputCols=[\"_c1\", \"_c2\", \"_c3\"],outputCol=\"features\")\n",
        "transformed = hasher.transform(data)\n",
        "transformed.show(5, False)"
      ],
      "metadata": {
        "colab": {
          "base_uri": "https://localhost:8080/"
        },
        "id": "73hTAAnY5otu",
        "outputId": "9369cdcf-d489-479e-8ce1-bf74b21b396f"
      },
      "execution_count": 11,
      "outputs": [
        {
          "output_type": "stream",
          "name": "stdout",
          "text": [
            "+----------------+-------+--------+------+---------------------------------------------+\n",
            "|_c0             |_c1    |_c2     |_c3   |features                                     |\n",
            "+----------------+-------+--------+------+---------------------------------------------+\n",
            "|Date/Time       |Lat    |Lon     |Base  |(262144,[55571,172580,207133],[1.0,1.0,1.0]) |\n",
            "|9/1/2014 0:01:00|40.2201|-74.0021|B02512|(262144,[42960,94022,211909],[1.0,1.0,1.0])  |\n",
            "|9/1/2014 0:01:00|40.75  |-74.0027|B02512|(262144,[75824,119514,211909],[1.0,1.0,1.0]) |\n",
            "|9/1/2014 0:03:00|40.7559|-73.9864|B02512|(262144,[163702,186577,211909],[1.0,1.0,1.0])|\n",
            "|9/1/2014 0:06:00|40.745 |-73.9889|B02512|(262144,[114797,153984,211909],[1.0,1.0,1.0])|\n",
            "+----------------+-------+--------+------+---------------------------------------------+\n",
            "only showing top 5 rows\n",
            "\n"
          ]
        }
      ]
    },
    {
      "cell_type": "code",
      "source": [
        "kmeans = KMeans().setK(2).setSeed(1)\n",
        "model = kmeans.fit(transformed)\n",
        "predictions = model.transform(transformed)\n",
        "evaluator = ClusteringEvaluator()\n",
        "silhouette = evaluator.evaluate(predictions)\n",
        "print(\"Silhouette with squared euclidean distance = \" + str(silhouette))\n",
        "centers = model.clusterCenters()\n",
        "print(\"Cluster Centers: \")\n",
        "for center in centers:\n",
        "  print(center) "
      ],
      "metadata": {
        "colab": {
          "base_uri": "https://localhost:8080/"
        },
        "id": "DG1uA6ZP6oP5",
        "outputId": "0f08ac55-2b39-443f-c4bf-5b0e6c213e14"
      },
      "execution_count": 14,
      "outputs": [
        {
          "output_type": "stream",
          "name": "stdout",
          "text": [
            "Silhouette with squared euclidean distance = 0.33358838780639055\n",
            "Cluster Centers: \n",
            "[0. 0. 0. ... 0. 0. 0.]\n",
            "[0. 0. 0. ... 0. 0. 0.]\n"
          ]
        }
      ]
    },
    {
      "cell_type": "code",
      "source": [
        "import numpy as np\n",
        "sil = np.zeros(20)\n",
        "evaluator = ClusteringEvaluator()\n",
        "for k in [2,3,4,5,6,7,8,9,10,11,12,13,14,15]:\n",
        "  kmeans = KMeans().setK(k).setSeed(1).setFeaturesCol(\"features\")\n",
        "  model = kmeans.fit(transformed)\n",
        "  predictions = model.transform(transformed)\n",
        "  sil[k] = evaluator.evaluate(predictions)\n",
        "  print('k='+str(k),' done')"
      ],
      "metadata": {
        "colab": {
          "base_uri": "https://localhost:8080/"
        },
        "id": "ZyUj--Y07TR9",
        "outputId": "d146531a-41c0-4d30-e135-43332801515d"
      },
      "execution_count": 16,
      "outputs": [
        {
          "output_type": "stream",
          "name": "stdout",
          "text": [
            "k=2  done\n",
            "k=3  done\n",
            "k=4  done\n",
            "k=5  done\n",
            "k=6  done\n",
            "k=7  done\n",
            "k=8  done\n",
            "k=9  done\n",
            "k=10  done\n",
            "k=11  done\n",
            "k=12  done\n",
            "k=13  done\n",
            "k=14  done\n",
            "k=15  done\n"
          ]
        }
      ]
    },
    {
      "cell_type": "code",
      "source": [
        "import os, tempfile\n",
        "model_path =\"/content/gdrive/MyDrive/clustering_model\"\n",
        "model.save(model_path)"
      ],
      "metadata": {
        "id": "BeHOnKyJ8c-L"
      },
      "execution_count": 17,
      "outputs": []
    },
    {
      "cell_type": "code",
      "source": [
        "from pyspark.ml.clustering import KMeansModel\n",
        "a=KMeansModel.load(\"/content/model_k_5\")"
      ],
      "metadata": {
        "colab": {
          "base_uri": "https://localhost:8080/",
          "height": 1000
        },
        "id": "qusWK6XC8j_7",
        "outputId": "feb1da97-4bb4-4427-b533-09a1cd0e7d12"
      },
      "execution_count": 23,
      "outputs": [
        {
          "output_type": "error",
          "ename": "Py4JJavaError",
          "evalue": "ignored",
          "traceback": [
            "\u001b[0;31m---------------------------------------------------------------------------\u001b[0m",
            "\u001b[0;31mPy4JJavaError\u001b[0m                             Traceback (most recent call last)",
            "\u001b[0;32m<ipython-input-23-95792728e7fe>\u001b[0m in \u001b[0;36m<module>\u001b[0;34m()\u001b[0m\n\u001b[1;32m      1\u001b[0m \u001b[0;32mfrom\u001b[0m \u001b[0mpyspark\u001b[0m\u001b[0;34m.\u001b[0m\u001b[0mml\u001b[0m\u001b[0;34m.\u001b[0m\u001b[0mclustering\u001b[0m \u001b[0;32mimport\u001b[0m \u001b[0mKMeansModel\u001b[0m\u001b[0;34m\u001b[0m\u001b[0;34m\u001b[0m\u001b[0m\n\u001b[0;32m----> 2\u001b[0;31m \u001b[0ma\u001b[0m\u001b[0;34m=\u001b[0m\u001b[0mKMeansModel\u001b[0m\u001b[0;34m.\u001b[0m\u001b[0mload\u001b[0m\u001b[0;34m(\u001b[0m\u001b[0;34m\"/content/model_k_5\"\u001b[0m\u001b[0;34m)\u001b[0m\u001b[0;34m\u001b[0m\u001b[0;34m\u001b[0m\u001b[0m\n\u001b[0m",
            "\u001b[0;32m/usr/local/lib/python3.7/dist-packages/pyspark/ml/util.py\u001b[0m in \u001b[0;36mload\u001b[0;34m(cls, path)\u001b[0m\n\u001b[1;32m    351\u001b[0m     \u001b[0;32mdef\u001b[0m \u001b[0mload\u001b[0m\u001b[0;34m(\u001b[0m\u001b[0mcls\u001b[0m\u001b[0;34m,\u001b[0m \u001b[0mpath\u001b[0m\u001b[0;34m:\u001b[0m \u001b[0mstr\u001b[0m\u001b[0;34m)\u001b[0m \u001b[0;34m->\u001b[0m \u001b[0mRL\u001b[0m\u001b[0;34m:\u001b[0m\u001b[0;34m\u001b[0m\u001b[0;34m\u001b[0m\u001b[0m\n\u001b[1;32m    352\u001b[0m         \u001b[0;34m\"\"\"Reads an ML instance from the input path, a shortcut of `read().load(path)`.\"\"\"\u001b[0m\u001b[0;34m\u001b[0m\u001b[0;34m\u001b[0m\u001b[0m\n\u001b[0;32m--> 353\u001b[0;31m         \u001b[0;32mreturn\u001b[0m \u001b[0mcls\u001b[0m\u001b[0;34m.\u001b[0m\u001b[0mread\u001b[0m\u001b[0;34m(\u001b[0m\u001b[0;34m)\u001b[0m\u001b[0;34m.\u001b[0m\u001b[0mload\u001b[0m\u001b[0;34m(\u001b[0m\u001b[0mpath\u001b[0m\u001b[0;34m)\u001b[0m\u001b[0;34m\u001b[0m\u001b[0;34m\u001b[0m\u001b[0m\n\u001b[0m\u001b[1;32m    354\u001b[0m \u001b[0;34m\u001b[0m\u001b[0m\n\u001b[1;32m    355\u001b[0m \u001b[0;34m\u001b[0m\u001b[0m\n",
            "\u001b[0;32m/usr/local/lib/python3.7/dist-packages/pyspark/ml/util.py\u001b[0m in \u001b[0;36mload\u001b[0;34m(self, path)\u001b[0m\n\u001b[1;32m    300\u001b[0m         \u001b[0;32mif\u001b[0m \u001b[0;32mnot\u001b[0m \u001b[0misinstance\u001b[0m\u001b[0;34m(\u001b[0m\u001b[0mpath\u001b[0m\u001b[0;34m,\u001b[0m \u001b[0mstr\u001b[0m\u001b[0;34m)\u001b[0m\u001b[0;34m:\u001b[0m\u001b[0;34m\u001b[0m\u001b[0;34m\u001b[0m\u001b[0m\n\u001b[1;32m    301\u001b[0m             \u001b[0;32mraise\u001b[0m \u001b[0mTypeError\u001b[0m\u001b[0;34m(\u001b[0m\u001b[0;34m\"path should be a string, got type %s\"\u001b[0m \u001b[0;34m%\u001b[0m \u001b[0mtype\u001b[0m\u001b[0;34m(\u001b[0m\u001b[0mpath\u001b[0m\u001b[0;34m)\u001b[0m\u001b[0;34m)\u001b[0m\u001b[0;34m\u001b[0m\u001b[0;34m\u001b[0m\u001b[0m\n\u001b[0;32m--> 302\u001b[0;31m         \u001b[0mjava_obj\u001b[0m \u001b[0;34m=\u001b[0m \u001b[0mself\u001b[0m\u001b[0;34m.\u001b[0m\u001b[0m_jread\u001b[0m\u001b[0;34m.\u001b[0m\u001b[0mload\u001b[0m\u001b[0;34m(\u001b[0m\u001b[0mpath\u001b[0m\u001b[0;34m)\u001b[0m\u001b[0;34m\u001b[0m\u001b[0;34m\u001b[0m\u001b[0m\n\u001b[0m\u001b[1;32m    303\u001b[0m         \u001b[0;32mif\u001b[0m \u001b[0;32mnot\u001b[0m \u001b[0mhasattr\u001b[0m\u001b[0;34m(\u001b[0m\u001b[0mself\u001b[0m\u001b[0;34m.\u001b[0m\u001b[0m_clazz\u001b[0m\u001b[0;34m,\u001b[0m \u001b[0;34m\"_from_java\"\u001b[0m\u001b[0;34m)\u001b[0m\u001b[0;34m:\u001b[0m\u001b[0;34m\u001b[0m\u001b[0;34m\u001b[0m\u001b[0m\n\u001b[1;32m    304\u001b[0m             raise NotImplementedError(\n",
            "\u001b[0;32m/usr/local/lib/python3.7/dist-packages/py4j/java_gateway.py\u001b[0m in \u001b[0;36m__call__\u001b[0;34m(self, *args)\u001b[0m\n\u001b[1;32m   1320\u001b[0m         \u001b[0manswer\u001b[0m \u001b[0;34m=\u001b[0m \u001b[0mself\u001b[0m\u001b[0;34m.\u001b[0m\u001b[0mgateway_client\u001b[0m\u001b[0;34m.\u001b[0m\u001b[0msend_command\u001b[0m\u001b[0;34m(\u001b[0m\u001b[0mcommand\u001b[0m\u001b[0;34m)\u001b[0m\u001b[0;34m\u001b[0m\u001b[0;34m\u001b[0m\u001b[0m\n\u001b[1;32m   1321\u001b[0m         return_value = get_return_value(\n\u001b[0;32m-> 1322\u001b[0;31m             answer, self.gateway_client, self.target_id, self.name)\n\u001b[0m\u001b[1;32m   1323\u001b[0m \u001b[0;34m\u001b[0m\u001b[0m\n\u001b[1;32m   1324\u001b[0m         \u001b[0;32mfor\u001b[0m \u001b[0mtemp_arg\u001b[0m \u001b[0;32min\u001b[0m \u001b[0mtemp_args\u001b[0m\u001b[0;34m:\u001b[0m\u001b[0;34m\u001b[0m\u001b[0;34m\u001b[0m\u001b[0m\n",
            "\u001b[0;32m/usr/local/lib/python3.7/dist-packages/pyspark/sql/utils.py\u001b[0m in \u001b[0;36mdeco\u001b[0;34m(*a, **kw)\u001b[0m\n\u001b[1;32m    188\u001b[0m     \u001b[0;32mdef\u001b[0m \u001b[0mdeco\u001b[0m\u001b[0;34m(\u001b[0m\u001b[0;34m*\u001b[0m\u001b[0ma\u001b[0m\u001b[0;34m:\u001b[0m \u001b[0mAny\u001b[0m\u001b[0;34m,\u001b[0m \u001b[0;34m**\u001b[0m\u001b[0mkw\u001b[0m\u001b[0;34m:\u001b[0m \u001b[0mAny\u001b[0m\u001b[0;34m)\u001b[0m \u001b[0;34m->\u001b[0m \u001b[0mAny\u001b[0m\u001b[0;34m:\u001b[0m\u001b[0;34m\u001b[0m\u001b[0;34m\u001b[0m\u001b[0m\n\u001b[1;32m    189\u001b[0m         \u001b[0;32mtry\u001b[0m\u001b[0;34m:\u001b[0m\u001b[0;34m\u001b[0m\u001b[0;34m\u001b[0m\u001b[0m\n\u001b[0;32m--> 190\u001b[0;31m             \u001b[0;32mreturn\u001b[0m \u001b[0mf\u001b[0m\u001b[0;34m(\u001b[0m\u001b[0;34m*\u001b[0m\u001b[0ma\u001b[0m\u001b[0;34m,\u001b[0m \u001b[0;34m**\u001b[0m\u001b[0mkw\u001b[0m\u001b[0;34m)\u001b[0m\u001b[0;34m\u001b[0m\u001b[0;34m\u001b[0m\u001b[0m\n\u001b[0m\u001b[1;32m    191\u001b[0m         \u001b[0;32mexcept\u001b[0m \u001b[0mPy4JJavaError\u001b[0m \u001b[0;32mas\u001b[0m \u001b[0me\u001b[0m\u001b[0;34m:\u001b[0m\u001b[0;34m\u001b[0m\u001b[0;34m\u001b[0m\u001b[0m\n\u001b[1;32m    192\u001b[0m             \u001b[0mconverted\u001b[0m \u001b[0;34m=\u001b[0m \u001b[0mconvert_exception\u001b[0m\u001b[0;34m(\u001b[0m\u001b[0me\u001b[0m\u001b[0;34m.\u001b[0m\u001b[0mjava_exception\u001b[0m\u001b[0;34m)\u001b[0m\u001b[0;34m\u001b[0m\u001b[0;34m\u001b[0m\u001b[0m\n",
            "\u001b[0;32m/usr/local/lib/python3.7/dist-packages/py4j/protocol.py\u001b[0m in \u001b[0;36mget_return_value\u001b[0;34m(answer, gateway_client, target_id, name)\u001b[0m\n\u001b[1;32m    326\u001b[0m                 raise Py4JJavaError(\n\u001b[1;32m    327\u001b[0m                     \u001b[0;34m\"An error occurred while calling {0}{1}{2}.\\n\"\u001b[0m\u001b[0;34m.\u001b[0m\u001b[0;34m\u001b[0m\u001b[0;34m\u001b[0m\u001b[0m\n\u001b[0;32m--> 328\u001b[0;31m                     format(target_id, \".\", name), value)\n\u001b[0m\u001b[1;32m    329\u001b[0m             \u001b[0;32melse\u001b[0m\u001b[0;34m:\u001b[0m\u001b[0;34m\u001b[0m\u001b[0;34m\u001b[0m\u001b[0m\n\u001b[1;32m    330\u001b[0m                 raise Py4JError(\n",
            "\u001b[0;31mPy4JJavaError\u001b[0m: An error occurred while calling o1431.load.\n: org.apache.hadoop.mapred.InvalidInputException: Input path does not exist: file:/content/model_k_5/metadata\n\tat org.apache.hadoop.mapred.FileInputFormat.singleThreadedListStatus(FileInputFormat.java:304)\n\tat org.apache.hadoop.mapred.FileInputFormat.listStatus(FileInputFormat.java:244)\n\tat org.apache.hadoop.mapred.FileInputFormat.getSplits(FileInputFormat.java:332)\n\tat org.apache.spark.rdd.HadoopRDD.getPartitions(HadoopRDD.scala:208)\n\tat org.apache.spark.rdd.RDD.$anonfun$partitions$2(RDD.scala:292)\n\tat scala.Option.getOrElse(Option.scala:189)\n\tat org.apache.spark.rdd.RDD.partitions(RDD.scala:288)\n\tat org.apache.spark.rdd.MapPartitionsRDD.getPartitions(MapPartitionsRDD.scala:49)\n\tat org.apache.spark.rdd.RDD.$anonfun$partitions$2(RDD.scala:292)\n\tat scala.Option.getOrElse(Option.scala:189)\n\tat org.apache.spark.rdd.RDD.partitions(RDD.scala:288)\n\tat org.apache.spark.rdd.RDD.$anonfun$take$1(RDD.scala:1449)\n\tat org.apache.spark.rdd.RDDOperationScope$.withScope(RDDOperationScope.scala:151)\n\tat org.apache.spark.rdd.RDDOperationScope$.withScope(RDDOperationScope.scala:112)\n\tat org.apache.spark.rdd.RDD.withScope(RDD.scala:406)\n\tat org.apache.spark.rdd.RDD.take(RDD.scala:1443)\n\tat org.apache.spark.rdd.RDD.$anonfun$first$1(RDD.scala:1484)\n\tat org.apache.spark.rdd.RDDOperationScope$.withScope(RDDOperationScope.scala:151)\n\tat org.apache.spark.rdd.RDDOperationScope$.withScope(RDDOperationScope.scala:112)\n\tat org.apache.spark.rdd.RDD.withScope(RDD.scala:406)\n\tat org.apache.spark.rdd.RDD.first(RDD.scala:1484)\n\tat org.apache.spark.ml.util.DefaultParamsReader$.loadMetadata(ReadWrite.scala:587)\n\tat org.apache.spark.ml.clustering.KMeansModel$KMeansModelReader.load(KMeans.scala:249)\n\tat org.apache.spark.ml.clustering.KMeansModel$KMeansModelReader.load(KMeans.scala:239)\n\tat java.base/jdk.internal.reflect.NativeMethodAccessorImpl.invoke0(Native Method)\n\tat java.base/jdk.internal.reflect.NativeMethodAccessorImpl.invoke(NativeMethodAccessorImpl.java:62)\n\tat java.base/jdk.internal.reflect.DelegatingMethodAccessorImpl.invoke(DelegatingMethodAccessorImpl.java:43)\n\tat java.base/java.lang.reflect.Method.invoke(Method.java:566)\n\tat py4j.reflection.MethodInvoker.invoke(MethodInvoker.java:244)\n\tat py4j.reflection.ReflectionEngine.invoke(ReflectionEngine.java:357)\n\tat py4j.Gateway.invoke(Gateway.java:282)\n\tat py4j.commands.AbstractCommand.invokeMethod(AbstractCommand.java:132)\n\tat py4j.commands.CallCommand.execute(CallCommand.java:79)\n\tat py4j.ClientServerConnection.waitForCommands(ClientServerConnection.java:182)\n\tat py4j.ClientServerConnection.run(ClientServerConnection.java:106)\n\tat java.base/java.lang.Thread.run(Thread.java:829)\nCaused by: java.io.IOException: Input path does not exist: file:/content/model_k_5/metadata\n\tat org.apache.hadoop.mapred.FileInputFormat.singleThreadedListStatus(FileInputFormat.java:278)\n\t... 35 more\n"
          ]
        }
      ]
    }
  ]
}