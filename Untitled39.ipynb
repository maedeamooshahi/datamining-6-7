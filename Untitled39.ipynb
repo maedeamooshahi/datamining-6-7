{
  "nbformat": 4,
  "nbformat_minor": 0,
  "metadata": {
    "colab": {
      "name": "Untitled39.ipynb",
      "provenance": [],
      "include_colab_link": true
    },
    "kernelspec": {
      "name": "python3",
      "display_name": "Python 3"
    },
    "language_info": {
      "name": "python"
    }
  },
  "cells": [
    {
      "cell_type": "markdown",
      "metadata": {
        "id": "view-in-github",
        "colab_type": "text"
      },
      "source": [
        "<a href=\"https://colab.research.google.com/github/maedeamooshahi/datamining-6-7/blob/main/Untitled39.ipynb\" target=\"_parent\"><img src=\"https://colab.research.google.com/assets/colab-badge.svg\" alt=\"Open In Colab\"/></a>"
      ]
    },
    {
      "cell_type": "code",
      "execution_count": 1,
      "metadata": {
        "colab": {
          "base_uri": "https://localhost:8080/"
        },
        "id": "Kq_q6fo_3_BT",
        "outputId": "7b03cdd6-35a9-440b-e96d-40d4f8be52e7"
      },
      "outputs": [
        {
          "output_type": "stream",
          "name": "stdout",
          "text": [
            "Looking in indexes: https://pypi.org/simple, https://us-python.pkg.dev/colab-wheels/public/simple/\n",
            "Collecting pyspark\n",
            "  Downloading pyspark-3.3.0.tar.gz (281.3 MB)\n",
            "\u001b[K     |████████████████████████████████| 281.3 MB 53 kB/s \n",
            "\u001b[?25hCollecting py4j==0.10.9.5\n",
            "  Downloading py4j-0.10.9.5-py2.py3-none-any.whl (199 kB)\n",
            "\u001b[K     |████████████████████████████████| 199 kB 76.6 MB/s \n",
            "\u001b[?25hBuilding wheels for collected packages: pyspark\n",
            "  Building wheel for pyspark (setup.py) ... \u001b[?25l\u001b[?25hdone\n",
            "  Created wheel for pyspark: filename=pyspark-3.3.0-py2.py3-none-any.whl size=281764026 sha256=cceb01f63c878a0def56aaefb81cfa9f8b9453e7d1fcd291bf7fadd55aa8bc0c\n",
            "  Stored in directory: /root/.cache/pip/wheels/7a/8e/1b/f73a52650d2e5f337708d9f6a1750d451a7349a867f928b885\n",
            "Successfully built pyspark\n",
            "Installing collected packages: py4j, pyspark\n",
            "Successfully installed py4j-0.10.9.5 pyspark-3.3.0\n"
          ]
        }
      ],
      "source": [
        "pip install pyspark"
      ]
    },
    {
      "cell_type": "code",
      "source": [
        "import pyspark\n",
        "from pyspark import SparkContext\n",
        "from pyspark.sql import *\n",
        "sc = SparkContext()\n",
        "spark = SparkSession.builder.appName('clustering').getOrCreate()"
      ],
      "metadata": {
        "id": "9dnlM-0n4YpK"
      },
      "execution_count": 2,
      "outputs": []
    },
    {
      "cell_type": "code",
      "source": [
        "data = spark.read.csv('/content/data.csv')\n",
        "data.show()"
      ],
      "metadata": {
        "colab": {
          "base_uri": "https://localhost:8080/"
        },
        "id": "w3MVyvMK4fQA",
        "outputId": "ef4cfac2-4ee4-4c7f-eac6-6846cd6e237a"
      },
      "execution_count": 3,
      "outputs": [
        {
          "output_type": "stream",
          "name": "stdout",
          "text": [
            "+----------------+-------+--------+------+\n",
            "|             _c0|    _c1|     _c2|   _c3|\n",
            "+----------------+-------+--------+------+\n",
            "|       Date/Time|    Lat|     Lon|  Base|\n",
            "|9/1/2014 0:01:00|40.2201|-74.0021|B02512|\n",
            "|9/1/2014 0:01:00|  40.75|-74.0027|B02512|\n",
            "|9/1/2014 0:03:00|40.7559|-73.9864|B02512|\n",
            "|9/1/2014 0:06:00| 40.745|-73.9889|B02512|\n",
            "|9/1/2014 0:11:00|40.8145|-73.9444|B02512|\n",
            "|9/1/2014 0:12:00|40.6735|-73.9918|B02512|\n",
            "|9/1/2014 0:15:00|40.7471|-73.6472|B02512|\n",
            "|9/1/2014 0:16:00|40.6613|-74.2691|B02512|\n",
            "|9/1/2014 0:32:00|40.3745|-73.9999|B02512|\n",
            "|9/1/2014 0:33:00|40.7633|-73.9773|B02512|\n",
            "|9/1/2014 0:33:00|40.7467|-73.6131|B02512|\n",
            "|9/1/2014 0:37:00|40.8105|  -73.96|B02512|\n",
            "|9/1/2014 0:38:00| 40.679|-74.0111|B02512|\n",
            "|9/1/2014 0:39:00|40.4023|-73.9839|B02512|\n",
            "|9/1/2014 0:48:00|40.7378|-74.0395|B02512|\n",
            "|9/1/2014 0:48:00|40.7214|-73.9884|B02512|\n",
            "|9/1/2014 0:49:00|40.8646|-73.9081|B02512|\n",
            "|9/1/2014 1:08:00|40.7398|-74.0061|B02512|\n",
            "|9/1/2014 1:17:00|40.6793|-74.0116|B02512|\n",
            "+----------------+-------+--------+------+\n",
            "only showing top 20 rows\n",
            "\n"
          ]
        }
      ]
    },
    {
      "cell_type": "code",
      "source": [
        "from pyspark.sql.functions import rand\n",
        "Df=data.orderBy(rand())\n",
        "Df.show()"
      ],
      "metadata": {
        "colab": {
          "base_uri": "https://localhost:8080/"
        },
        "id": "3aCQ5a9I5XLw",
        "outputId": "a537dd3e-c971-4e5a-f234-3389ce6b16d9"
      },
      "execution_count": 4,
      "outputs": [
        {
          "output_type": "stream",
          "name": "stdout",
          "text": [
            "+------------------+-------+--------+------+\n",
            "|               _c0|    _c1|     _c2|   _c3|\n",
            "+------------------+-------+--------+------+\n",
            "|6/22/2014 12:00:00|40.7127| -73.998|B02617|\n",
            "| 7/8/2014 11:48:00|40.7729| -73.956|B02617|\n",
            "| 5/9/2014 11:45:00|40.7433|-74.0031|B02598|\n",
            "|7/12/2014 19:30:00|40.7431|-73.9801|B02682|\n",
            "| 9/30/2014 7:53:00|40.7338|  -74.01|B02598|\n",
            "|7/25/2014 22:04:00|40.7284|-74.0327|B02512|\n",
            "|7/28/2014 13:53:00|40.7625|-73.9751|B02764|\n",
            "|6/18/2014 22:31:00|40.7472|-73.9743|B02617|\n",
            "| 8/31/2014 3:09:00|40.7078|-73.9325|B02682|\n",
            "|9/13/2014 19:48:00|40.7558|-73.9848|B02617|\n",
            "|9/13/2014 11:30:00| 40.802|-73.9695|B02617|\n",
            "|9/27/2014 11:38:00|40.6965|-73.9971|B02617|\n",
            "|6/15/2014 11:57:00|40.7435|-73.9884|B02598|\n",
            "|6/28/2014 19:46:00|40.7305|-73.9577|B02598|\n",
            "| 9/4/2014 22:50:00|40.7557|-73.9839|B02682|\n",
            "|8/23/2014 23:19:00|40.7355|-73.9964|B02682|\n",
            "|6/11/2014 17:17:00|40.7741|-73.8717|B02682|\n",
            "|7/19/2014 20:40:00|40.7311| -73.984|B02617|\n",
            "|7/11/2014 16:47:00|40.7249|-73.9788|B02617|\n",
            "|  5/9/2014 2:55:00|40.7608|-73.9864|B02598|\n",
            "+------------------+-------+--------+------+\n",
            "only showing top 20 rows\n",
            "\n"
          ]
        }
      ]
    },
    {
      "cell_type": "code",
      "source": [
        "DF=Df.sample(0.2)\n",
        "DF.show()"
      ],
      "metadata": {
        "colab": {
          "base_uri": "https://localhost:8080/"
        },
        "id": "hgASbMf65c8V",
        "outputId": "c72335ce-d77d-4b8f-aa0d-72e83bea72ff"
      },
      "execution_count": 6,
      "outputs": [
        {
          "output_type": "stream",
          "name": "stdout",
          "text": [
            "+------------------+-------+--------+------+\n",
            "|               _c0|    _c1|     _c2|   _c3|\n",
            "+------------------+-------+--------+------+\n",
            "| 7/8/2014 11:48:00|40.7729| -73.956|B02617|\n",
            "| 7/29/2014 8:24:00|40.7332|-73.9871|B02682|\n",
            "|9/12/2014 20:16:00|40.7748|-73.9592|B02617|\n",
            "| 5/7/2014 18:51:00|40.7382|-74.0009|B02598|\n",
            "| 8/6/2014 20:45:00|40.7594|-73.9744|B02682|\n",
            "| 9/2/2014 19:39:00|40.6935|-73.9394|B02617|\n",
            "|6/10/2014 17:37:00|40.7663|-73.9916|B02617|\n",
            "|7/18/2014 21:33:00|40.7236|-73.9823|B02617|\n",
            "|7/25/2014 18:22:00|40.6535|-73.9764|B02598|\n",
            "|  8/3/2014 0:12:00|40.6681|-73.9755|B02598|\n",
            "|7/25/2014 12:09:00| 40.716| -73.936|B02598|\n",
            "|6/26/2014 17:28:00|40.6635|-73.9868|B02617|\n",
            "|6/13/2014 17:30:00|40.7642| -73.964|B02512|\n",
            "| 6/7/2014 10:43:00|40.7719|-73.9557|B02682|\n",
            "| 8/20/2014 8:14:00|40.8556|-73.9377|B02682|\n",
            "| 7/9/2014 14:18:00|40.7443|-73.9834|B02598|\n",
            "| 8/7/2014 21:36:00| 40.774|-73.8725|B02598|\n",
            "|7/28/2014 17:04:00|40.7954|-73.9735|B02598|\n",
            "| 6/7/2014 14:02:00|40.7508|-73.9785|B02682|\n",
            "|8/10/2014 21:09:00|40.7715|-73.9594|B02682|\n",
            "+------------------+-------+--------+------+\n",
            "only showing top 20 rows\n",
            "\n"
          ]
        }
      ]
    },
    {
      "cell_type": "code",
      "source": [
        "from pyspark.ml.clustering import KMeans\n",
        "from pyspark.ml.evaluation import ClusteringEvaluator\n",
        "from pyspark.ml.feature import *"
      ],
      "metadata": {
        "id": "6ycK0DKa5jI2"
      },
      "execution_count": 7,
      "outputs": []
    },
    {
      "cell_type": "code",
      "source": [
        "hasher = FeatureHasher(inputCols=[\"_c1\", \"_c2\", \"_c3\"],outputCol=\"features\")\n",
        "transformed = hasher.transform(DF)\n",
        "transformed.show(5, False)"
      ],
      "metadata": {
        "colab": {
          "base_uri": "https://localhost:8080/"
        },
        "id": "73hTAAnY5otu",
        "outputId": "a13f33f5-a0a8-4695-f00b-61f4825eb161"
      },
      "execution_count": 8,
      "outputs": [
        {
          "output_type": "stream",
          "name": "stdout",
          "text": [
            "+------------------+-------+--------+------+---------------------------------------------+\n",
            "|_c0               |_c1    |_c2     |_c3   |features                                     |\n",
            "+------------------+-------+--------+------+---------------------------------------------+\n",
            "|7/8/2014 11:48:00 |40.7729|-73.956 |B02617|(262144,[212967,214545,221409],[1.0,1.0,1.0])|\n",
            "|7/29/2014 8:24:00 |40.7332|-73.9871|B02682|(262144,[18089,58227,195651],[1.0,1.0,1.0])  |\n",
            "|9/12/2014 20:16:00|40.7748|-73.9592|B02617|(262144,[184927,197973,214545],[1.0,1.0,1.0])|\n",
            "|5/7/2014 18:51:00 |40.7382|-74.0009|B02598|(262144,[51504,179065,245446],[1.0,1.0,1.0]) |\n",
            "|8/6/2014 20:45:00 |40.7594|-73.9744|B02682|(262144,[58227,201795,207138],[1.0,1.0,1.0]) |\n",
            "+------------------+-------+--------+------+---------------------------------------------+\n",
            "only showing top 5 rows\n",
            "\n"
          ]
        }
      ]
    },
    {
      "cell_type": "code",
      "source": [
        "kmeans = KMeans().setK(2).setSeed(1)\n",
        "model = kmeans.fit(transformed)\n",
        "predictions = model.transform(transformed)\n",
        "evaluator = ClusteringEvaluator()\n",
        "silhouette = evaluator.evaluate(predictions)\n",
        "print(\"Silhouette with squared euclidean distance = \" + str(silhouette))\n",
        "centers = model.clusterCenters()\n",
        "print(\"Cluster Centers: \")\n",
        "for center in centers:\n",
        "  print(center) "
      ],
      "metadata": {
        "colab": {
          "base_uri": "https://localhost:8080/"
        },
        "id": "DG1uA6ZP6oP5",
        "outputId": "22b85f5a-a7cd-45c9-b25b-14a09057f497"
      },
      "execution_count": 9,
      "outputs": [
        {
          "output_type": "stream",
          "name": "stdout",
          "text": [
            "Silhouette with squared euclidean distance = 0.1704426200622351\n",
            "Cluster Centers: \n",
            "[0. 0. 0. ... 0. 0. 0.]\n",
            "[0. 0. 0. ... 0. 0. 0.]\n"
          ]
        }
      ]
    },
    {
      "cell_type": "code",
      "source": [
        "import numpy as np\n",
        "sil = np.zeros(20)\n",
        "evaluator = ClusteringEvaluator()\n",
        "for k in [2,3,4,5,6,7,8,9,10,11,12,13,14,15]:\n",
        "  kmeans = KMeans().setK(k).setSeed(1).setFeaturesCol(\"features\")\n",
        "  model = kmeans.fit(transformed)\n",
        "  predictions = model.transform(transformed)\n",
        "  sil[k] = evaluator.evaluate(predictions)\n",
        "  print('k='+str(k),' done')"
      ],
      "metadata": {
        "colab": {
          "base_uri": "https://localhost:8080/"
        },
        "id": "ZyUj--Y07TR9",
        "outputId": "eee71c44-cbcf-4dcd-ef8e-5cfec06e2727"
      },
      "execution_count": 10,
      "outputs": [
        {
          "output_type": "stream",
          "name": "stdout",
          "text": [
            "k=2  done\n",
            "k=3  done\n",
            "k=4  done\n",
            "k=5  done\n",
            "k=6  done\n",
            "k=7  done\n",
            "k=8  done\n",
            "k=9  done\n",
            "k=10  done\n",
            "k=11  done\n",
            "k=12  done\n",
            "k=13  done\n",
            "k=14  done\n",
            "k=15  done\n"
          ]
        }
      ]
    },
    {
      "cell_type": "code",
      "source": [
        "import matplotlib.mlab as mlab\n",
        "import matplotlib.pyplot as plt\n",
        "import seaborn as sbs\n",
        "from matplotlib.ticker import MaxNLocator\n",
        "fig, ax = plt.subplots(1,1, figsize =(8,6))\n",
        "ax.plot([2,3,4,5,6,7,8,9,10,11,12,13,14,15],sil[2:16])\n",
        "ax.set_xlabel('number of clusters (K)')\n",
        "ax.set_ylabel('Silhouette with squared euclidean distance')\n",
        "ax.xaxis.set_major_locator(MaxNLocator(integer=True))\n",
        "ax.grid()\n",
        "plt.show()"
      ],
      "metadata": {
        "colab": {
          "base_uri": "https://localhost:8080/",
          "height": 388
        },
        "id": "-MwlYYzq9mWi",
        "outputId": "2897f78d-772a-4617-e398-7e9b2122aa72"
      },
      "execution_count": 15,
      "outputs": [
        {
          "output_type": "display_data",
          "data": {
            "text/plain": [
              "<Figure size 576x432 with 1 Axes>"
            ],
            "image/png": "[encoded data removed]"
          },
          "metadata": {
            "needs_background": "light"
          }
        }
      ]
    },
    {
      "cell_type": "code",
      "source": [
        "import os, tempfile\n",
        "model_path =\"/content/gdrive/MyDrive/clustering_model\"\n",
        "model.save(model_path)"
      ],
      "metadata": {
        "id": "BeHOnKyJ8c-L"
      },
      "execution_count": 16,
      "outputs": []
    }
  ]
}